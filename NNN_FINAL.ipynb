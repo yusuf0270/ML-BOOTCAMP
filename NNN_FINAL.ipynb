{
 "cells": [
  {
   "cell_type": "code",
   "execution_count": 1,
   "metadata": {
    "id": "Q0QzJR_B343P"
   },
   "outputs": [],
   "source": [
    "import numpy as np\n",
    "import matplotlib.pyplot as plt\n",
    "import pandas as pd\n",
    "df=pd.read_csv('classification_train.csv')"
   ]
  },
  {
   "cell_type": "code",
   "execution_count": 2,
   "metadata": {
    "id": "Cb91nNvTKQuc"
   },
   "outputs": [],
   "source": [
    "array=df.to_numpy()\n",
    "x=array[:24000,2:]\n",
    "y=array[:,1]\n",
    "y_logistic=np.zeros((24000,10))\n",
    "for i in range(24000):\n",
    "    y_logistic[i,y[i]]=1"
   ]
  },
  {
   "cell_type": "code",
   "execution_count": 3,
   "metadata": {
    "id": "WqC_BeFOKUcb"
   },
   "outputs": [],
   "source": [
    "def feature_scaling(x):\n",
    "    shape=x.shape\n",
    "    m=shape[0]\n",
    "    if len(shape)==1:\n",
    "        n=1\n",
    "    else:\n",
    "        n=shape[1]\n",
    "    for i in range(n):\n",
    "        sigma_x=np.sum(x[0:,i])\n",
    "        mean_x=sigma_x/m\n",
    "        deviation=(x[0:,i]-mean_x)**2\n",
    "        Std_D=np.sum(deviation)\n",
    "        Std_D=Std_D/m\n",
    "        Std_D=Std_D**(.5)\n",
    "        \"\"\"Std_D=np.std(x[0:,i], dtype = np.float64)\"\"\"\n",
    "        x[0:,i]=x[0:,i]-mean_x\n",
    "        x[0:,i]=x[0:,i]/Std_D\n",
    "    return x\n",
    "x=feature_scaling(x)"
   ]
  },
  {
   "cell_type": "code",
   "execution_count": 4,
   "metadata": {
    "id": "4A1FcGgeKdEw"
   },
   "outputs": [],
   "source": [
    "##n is an array of no of neurons in all layers except input layer\n",
    "def layer_formation(n):\n",
    "    nf=np.insert(n,0,784)\n",
    "    #print(nf.shape)\n",
    "    l=len(nf)\n",
    "    w={}\n",
    "    b={}\n",
    "    for i in range (l-1):\n",
    "        np.random.seed(42)\n",
    "        w[i+1]=np.random.randn(nf[i+1],nf[i])/10\n",
    "        b[i+1]=np.random.randn(nf[i+1])/10\n",
    "    return w,b    "
   ]
  },
  {
   "cell_type": "code",
   "execution_count": 5,
   "metadata": {
    "id": "oCceW4VGKn6i"
   },
   "outputs": [],
   "source": [
    "def z_function(x,w,b):\n",
    "    #bnew=np.tile(b,(30000,1))\n",
    "    z=(np.matmul(x,w.T)+b)\n",
    "    return z"
   ]
  },
  {
   "cell_type": "code",
   "execution_count": 6,
   "metadata": {
    "id": "476_OacFKtvk"
   },
   "outputs": [],
   "source": [
    "def RelU_(z):\n",
    "    relu=np.maximum(0,z)\n",
    "    return relu\n",
    "RelU=np.vectorize(RelU_)"
   ]
  },
  {
   "cell_type": "code",
   "execution_count": 7,
   "metadata": {
    "id": "STZ8EAUE2gOg"
   },
   "outputs": [],
   "source": [
    "def Tanh_function(z):\n",
    "    return np.tanh(z)\n",
    "def Tanh_function_d(z):\n",
    "    return 1-(np.tanh(z))**2"
   ]
  },
  {
   "cell_type": "code",
   "execution_count": 8,
   "metadata": {
    "id": "Mxb4S0Oh0pbg"
   },
   "outputs": [],
   "source": [
    "def Hits(y_predicted,y):\n",
    "    shape=y.shape\n",
    "    m=shape[0]\n",
    "    #print(m)\n",
    "    count=0\n",
    "    for i in range (m):\n",
    "        if y_predicted[i]==y[i]:\n",
    "            count+=1\n",
    "    accuracy=(count/m)*100\n",
    "    return accuracy,count"
   ]
  },
  {
   "cell_type": "code",
   "execution_count": 9,
   "metadata": {
    "id": "UhVKW3_VKvAm"
   },
   "outputs": [],
   "source": [
    "def RelU_d_(z):\n",
    "    return z>0\n",
    "RelU_d=np.vectorize(RelU_d_)"
   ]
  },
  {
   "cell_type": "code",
   "execution_count": 10,
   "metadata": {
    "id": "Ef5TmiDMKxtl"
   },
   "outputs": [],
   "source": [
    " def sigmoid_(z):\n",
    "        return 1/(1+np.exp(-z))\n",
    "sigmoid=np.vectorize(sigmoid_)"
   ]
  },
  {
   "cell_type": "code",
   "execution_count": 11,
   "metadata": {
    "id": "55fcuL2WK2tV"
   },
   "outputs": [],
   "source": [
    "def sigmoid_d_(z):\n",
    "    s=sigmoid_(z)\n",
    "    d=s*(1-s)\n",
    "    return d\n",
    "sigmoid_d=np.vectorize(sigmoid_d_)"
   ]
  },
  {
   "cell_type": "code",
   "execution_count": 12,
   "metadata": {
    "id": "LXK4QH3NLANe"
   },
   "outputs": [],
   "source": [
    "def forward_prop(x,w,b,activation):\n",
    "    l=len(w)\n",
    "    a={}\n",
    "    a[0]=x\n",
    "    if activation==\"tanh\":\n",
    "        for i in range (l-1):\n",
    "        a[i+1]=Tanh_function(z_function(a[i],w[i+1],b[i+1]))\n",
    "    elif activation==\"relu\":\n",
    "        for i in range (l-1):\n",
    "        a[i+1]=RelU(z_function(a[i],w[i+1],b[i+1])) \n",
    "    a[l]=softmax(a[l-1],w[l],b[l])\n",
    "    return a"
   ]
  },
  {
   "cell_type": "code",
   "execution_count": 13,
   "metadata": {
    "id": "iOK6UnIwb-ef"
   },
   "outputs": [],
   "source": [
    "def cost_function(x,y,w,b):\n",
    "    l=len(w)\n",
    "    a=forward_prop(x,w,b)\n",
    "    cost=np.sum(y*np.log(a[l]))\n",
    "    return -cost\n",
    "    "
   ]
  },
  {
   "cell_type": "code",
   "execution_count": 14,
   "metadata": {
    "id": "jwhO65nXLDj8"
   },
   "outputs": [],
   "source": [
    "\n",
    "def back_prop(x,y,w,b,activation):\n",
    "    m=x.shape[0]\n",
    "    l=len(w)\n",
    "    a=forward_prop(x,w,b,activation)\n",
    "    dw={}\n",
    "    db={}\n",
    "    dc_z=(1/m)*(a[l]-y)\n",
    "    for i in range (l):\n",
    "        dw[l-i]=np.matmul(dc_z.T,a[l-i-1])\n",
    "        db[l-i]=np.sum(dc_z,axis=0)\n",
    "        if l-i-2<0:\n",
    "            break\n",
    "        if activation==\"tanh\":\n",
    "            dc_z=np.matmul(dc_z,w[l-i])*Tanh_function_d(z_function(a[l-i-2],w[l-i-1],b[l-i-1]))\n",
    "        elif activation==\"relu\":\n",
    "            dc_z=np.matmul(dc_z,w[l-i])*RelU_d(z_function(a[l-i-2],w[l-i-1],b[l-i-1]))\n",
    "\n",
    "        \n",
    "    return dw,db\n",
    "    "
   ]
  },
  {
   "cell_type": "code",
   "execution_count": 15,
   "metadata": {
    "id": "G2TSpx8ZLGyb"
   },
   "outputs": [],
   "source": [
    "def update_parameters(x,y,w,b,alpha,iterations,activation):\n",
    "    m=x.shape[0]\n",
    "    w_new=w\n",
    "    b_new=b\n",
    "    l=len(w)\n",
    "    y_l=np.argmax(y,axis=1)\n",
    "    for i in range (iterations):\n",
    "        dw,db=back_prop(x,y,w_new,b_new,activation)\n",
    "        if i%30==0:\n",
    "            afinal=forward_prop(x,w_new,b_new,activation)\n",
    "            y_final=np.zeros(m)\n",
    "            for j in range (m):\n",
    "                y_final[j]=np.argmax(afinal[2][j])\n",
    "            print(f\"accuracy after {i} iterations is {Hits(y_final,y_l)}\")\n",
    "            \n",
    "        for j in range (l):\n",
    "                w_new[j+1]=w_new[j+1]-alpha*dw[j+1]\n",
    "                b_new[j+1]=b_new[j+1]-alpha*db[j+1]\n",
    "    return w_new,b_new"
   ]
  },
  {
   "cell_type": "code",
   "execution_count": 16,
   "metadata": {
    "id": "aqXxUWpAK-64"
   },
   "outputs": [],
   "source": [
    "def softmax(x,w,b):\n",
    "    z=z_function(x,w,b)\n",
    "    z=z-(np.max(z, axis=1)).reshape(-1,1)\n",
    "    #print(z.shape)\n",
    "    softmax=(np.exp(z).T/np.sum(np.exp(z),axis=1)).T\n",
    "    return softmax"
   ]
  },
  {
   "cell_type": "code",
   "execution_count": 17,
   "metadata": {
    "id": "O5thGjk6LJcE"
   },
   "outputs": [],
   "source": [
    "n=np.array([10,10])\n",
    "w,b=layer_formation(n)"
   ]
  },
  {
   "cell_type": "code",
   "execution_count": 19,
   "metadata": {
    "colab": {
     "base_uri": "https://localhost:8080/"
    },
    "id": "B7mgsBT-LUKu",
    "outputId": "4357e47b-29e7-4237-a3f0-a6b61f044f37"
   },
   "outputs": [
    {
     "name": "stdout",
     "output_type": "stream",
     "text": [
      "accuracy after 0 iterations is (6.808333333333333, 1634)\n",
      "accuracy after 30 iterations is (11.504166666666666, 2761)\n",
      "accuracy after 60 iterations is (19.820833333333333, 4757)\n",
      "accuracy after 90 iterations is (25.016666666666666, 6004)\n",
      "accuracy after 120 iterations is (28.695833333333333, 6887)\n",
      "accuracy after 150 iterations is (33.49583333333334, 8039)\n",
      "accuracy after 180 iterations is (38.32083333333333, 9197)\n",
      "accuracy after 210 iterations is (42.7375, 10257)\n",
      "accuracy after 240 iterations is (47.333333333333336, 11360)\n",
      "accuracy after 270 iterations is (51.24999999999999, 12300)\n",
      "accuracy after 300 iterations is (54.07083333333333, 12977)\n",
      "accuracy after 330 iterations is (56.108333333333334, 13466)\n",
      "accuracy after 360 iterations is (57.604166666666664, 13825)\n",
      "accuracy after 390 iterations is (58.916666666666664, 14140)\n",
      "accuracy after 420 iterations is (60.24583333333333, 14459)\n",
      "accuracy after 450 iterations is (61.64166666666666, 14794)\n",
      "accuracy after 480 iterations is (62.87083333333333, 15089)\n",
      "accuracy after 510 iterations is (64.02083333333334, 15365)\n",
      "accuracy after 540 iterations is (64.9625, 15591)\n",
      "accuracy after 570 iterations is (65.825, 15798)\n",
      "accuracy after 600 iterations is (66.50416666666666, 15961)\n",
      "accuracy after 630 iterations is (67.12916666666666, 16111)\n",
      "accuracy after 660 iterations is (67.69166666666668, 16246)\n",
      "accuracy after 690 iterations is (68.12916666666666, 16351)\n",
      "accuracy after 720 iterations is (68.625, 16470)\n",
      "accuracy after 750 iterations is (69.1125, 16587)\n",
      "accuracy after 780 iterations is (69.49166666666666, 16678)\n",
      "accuracy after 810 iterations is (69.925, 16782)\n",
      "accuracy after 840 iterations is (70.22916666666667, 16855)\n",
      "accuracy after 870 iterations is (70.50416666666666, 16921)\n",
      "accuracy after 900 iterations is (70.76249999999999, 16983)\n",
      "accuracy after 930 iterations is (71.00833333333333, 17042)\n",
      "accuracy after 960 iterations is (71.20416666666667, 17089)\n",
      "accuracy after 990 iterations is (71.47083333333333, 17153)\n",
      "accuracy after 1020 iterations is (71.62916666666666, 17191)\n",
      "accuracy after 1050 iterations is (71.9125, 17259)\n",
      "accuracy after 1080 iterations is (72.13333333333334, 17312)\n",
      "accuracy after 1110 iterations is (72.32499999999999, 17358)\n",
      "accuracy after 1140 iterations is (72.51666666666667, 17404)\n",
      "accuracy after 1170 iterations is (72.77916666666667, 17467)\n",
      "accuracy after 1200 iterations is (72.94166666666668, 17506)\n",
      "accuracy after 1230 iterations is (73.05416666666666, 17533)\n",
      "accuracy after 1260 iterations is (73.18333333333334, 17564)\n",
      "accuracy after 1290 iterations is (73.4, 17616)\n",
      "accuracy after 1320 iterations is (73.5625, 17655)\n",
      "accuracy after 1350 iterations is (73.6875, 17685)\n",
      "accuracy after 1380 iterations is (73.77916666666667, 17707)\n",
      "accuracy after 1410 iterations is (73.95, 17748)\n",
      "accuracy after 1440 iterations is (74.08749999999999, 17781)\n",
      "accuracy after 1470 iterations is (74.26666666666667, 17824)\n"
     ]
    }
   ],
   "source": [
    " w_new,b_new=update_parameters(x,y_logistic,w,b,0.01,1500,\"relu\")"
   ]
  },
  {
   "cell_type": "code",
   "execution_count": 20,
   "metadata": {
    "id": "13vXIzh7Qrx_"
   },
   "outputs": [
    {
     "name": "stdout",
     "output_type": "stream",
     "text": [
      "accuracy after 0 iterations is (74.35416666666667, 17845)\n",
      "accuracy after 30 iterations is (74.425, 17862)\n",
      "accuracy after 60 iterations is (74.49583333333332, 17879)\n",
      "accuracy after 90 iterations is (74.58749999999999, 17901)\n",
      "accuracy after 120 iterations is (74.72083333333333, 17933)\n",
      "accuracy after 150 iterations is (74.8, 17952)\n",
      "accuracy after 180 iterations is (74.91666666666667, 17980)\n",
      "accuracy after 210 iterations is (74.95833333333334, 17990)\n",
      "accuracy after 240 iterations is (75.00833333333333, 18002)\n",
      "accuracy after 270 iterations is (75.09583333333333, 18023)\n",
      "accuracy after 300 iterations is (75.17083333333333, 18041)\n",
      "accuracy after 330 iterations is (75.24583333333334, 18059)\n",
      "accuracy after 360 iterations is (75.32083333333334, 18077)\n",
      "accuracy after 390 iterations is (75.36666666666667, 18088)\n",
      "accuracy after 420 iterations is (75.47083333333333, 18113)\n",
      "accuracy after 450 iterations is (75.575, 18138)\n",
      "accuracy after 480 iterations is (75.625, 18150)\n"
     ]
    }
   ],
   "source": [
    " w_new1,b_new1=update_parameters(x,y_logistic,w_new,b_new,0.01,500,\"relu\")"
   ]
  },
  {
   "cell_type": "code",
   "execution_count": null,
   "metadata": {},
   "outputs": [],
   "source": []
  }
 ],
 "metadata": {
  "accelerator": "GPU",
  "colab": {
   "provenance": []
  },
  "gpuClass": "standard",
  "kernelspec": {
   "display_name": "Python 3 (ipykernel)",
   "language": "python",
   "name": "python3"
  },
  "language_info": {
   "codemirror_mode": {
    "name": "ipython",
    "version": 3
   },
   "file_extension": ".py",
   "mimetype": "text/x-python",
   "name": "python",
   "nbconvert_exporter": "python",
   "pygments_lexer": "ipython3",
   "version": "3.11.2"
  }
 },
 "nbformat": 4,
 "nbformat_minor": 1
}
