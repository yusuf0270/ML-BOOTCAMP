{
 "cells": [
  {
   "cell_type": "code",
   "execution_count": 1,
   "id": "d6251f95",
   "metadata": {},
   "outputs": [
    {
     "name": "stdout",
     "output_type": "stream",
     "text": [
      "(40000, 20)\n"
     ]
    }
   ],
   "source": [
    "import numpy as np\n",
    "import pandas as pd\n",
    "import math\n",
    "import matplotlib.pyplot as plt\n",
    "%matplotlib inline\n",
    "import pandas as pd\n",
    "#reading test data\n",
    "df=pd.read_csv('linear_train.csv')\n",
    "array=df.to_numpy()\n",
    "X=array[:40000,1:21]\n",
    "\n",
    "Y=array[:40000,21]\n",
    "\n",
    "print(X.shape)"
   ]
  },
  {
   "cell_type": "code",
   "execution_count": 2,
   "id": "02e21054",
   "metadata": {},
   "outputs": [
    {
     "data": {
      "text/html": [
       "<div>\n",
       "<style scoped>\n",
       "    .dataframe tbody tr th:only-of-type {\n",
       "        vertical-align: middle;\n",
       "    }\n",
       "\n",
       "    .dataframe tbody tr th {\n",
       "        vertical-align: top;\n",
       "    }\n",
       "\n",
       "    .dataframe thead th {\n",
       "        text-align: right;\n",
       "    }\n",
       "</style>\n",
       "<table border=\"1\" class=\"dataframe\">\n",
       "  <thead>\n",
       "    <tr style=\"text-align: right;\">\n",
       "      <th></th>\n",
       "      <th>Unnamed: 0</th>\n",
       "      <th>A</th>\n",
       "      <th>B</th>\n",
       "      <th>C</th>\n",
       "      <th>D</th>\n",
       "      <th>E</th>\n",
       "      <th>F</th>\n",
       "      <th>G</th>\n",
       "      <th>H</th>\n",
       "      <th>I</th>\n",
       "      <th>...</th>\n",
       "      <th>L</th>\n",
       "      <th>M</th>\n",
       "      <th>N</th>\n",
       "      <th>O</th>\n",
       "      <th>P</th>\n",
       "      <th>Q</th>\n",
       "      <th>R</th>\n",
       "      <th>S</th>\n",
       "      <th>T</th>\n",
       "      <th>label</th>\n",
       "    </tr>\n",
       "  </thead>\n",
       "  <tbody>\n",
       "    <tr>\n",
       "      <th>count</th>\n",
       "      <td>50000.000000</td>\n",
       "      <td>50000.000000</td>\n",
       "      <td>50000.000000</td>\n",
       "      <td>50000.000000</td>\n",
       "      <td>50000.000000</td>\n",
       "      <td>50000.000000</td>\n",
       "      <td>50000.000000</td>\n",
       "      <td>50000.000000</td>\n",
       "      <td>50000.000000</td>\n",
       "      <td>50000.000000</td>\n",
       "      <td>...</td>\n",
       "      <td>50000.000000</td>\n",
       "      <td>50000.000000</td>\n",
       "      <td>50000.000000</td>\n",
       "      <td>50000.000000</td>\n",
       "      <td>50000.000000</td>\n",
       "      <td>50000.000000</td>\n",
       "      <td>50000.000000</td>\n",
       "      <td>50000.000000</td>\n",
       "      <td>50000.000000</td>\n",
       "      <td>50000.000000</td>\n",
       "    </tr>\n",
       "    <tr>\n",
       "      <th>mean</th>\n",
       "      <td>24999.500000</td>\n",
       "      <td>0.234036</td>\n",
       "      <td>250.032231</td>\n",
       "      <td>-0.043196</td>\n",
       "      <td>0.000344</td>\n",
       "      <td>-0.138673</td>\n",
       "      <td>22.942050</td>\n",
       "      <td>63.183671</td>\n",
       "      <td>-0.265300</td>\n",
       "      <td>-149.202551</td>\n",
       "      <td>...</td>\n",
       "      <td>-0.307216</td>\n",
       "      <td>0.036604</td>\n",
       "      <td>-2.009511</td>\n",
       "      <td>-1986.100476</td>\n",
       "      <td>0.024010</td>\n",
       "      <td>764.892736</td>\n",
       "      <td>0.099609</td>\n",
       "      <td>63.015279</td>\n",
       "      <td>789.092996</td>\n",
       "      <td>-0.365651</td>\n",
       "    </tr>\n",
       "    <tr>\n",
       "      <th>std</th>\n",
       "      <td>14433.901067</td>\n",
       "      <td>285.713891</td>\n",
       "      <td>28.598415</td>\n",
       "      <td>28.596652</td>\n",
       "      <td>0.215329</td>\n",
       "      <td>28.612768</td>\n",
       "      <td>14.382952</td>\n",
       "      <td>28.504422</td>\n",
       "      <td>28.661015</td>\n",
       "      <td>286.684254</td>\n",
       "      <td>...</td>\n",
       "      <td>28.621340</td>\n",
       "      <td>28.642504</td>\n",
       "      <td>570.633593</td>\n",
       "      <td>28.531680</td>\n",
       "      <td>28.693994</td>\n",
       "      <td>28.686856</td>\n",
       "      <td>28.568842</td>\n",
       "      <td>142.545457</td>\n",
       "      <td>28.474483</td>\n",
       "      <td>246.405245</td>\n",
       "    </tr>\n",
       "    <tr>\n",
       "      <th>min</th>\n",
       "      <td>0.000000</td>\n",
       "      <td>-1275.133865</td>\n",
       "      <td>139.253653</td>\n",
       "      <td>-114.415607</td>\n",
       "      <td>-0.892349</td>\n",
       "      <td>-132.697679</td>\n",
       "      <td>-36.177565</td>\n",
       "      <td>-46.802955</td>\n",
       "      <td>-137.983886</td>\n",
       "      <td>-1265.689515</td>\n",
       "      <td>...</td>\n",
       "      <td>-114.116214</td>\n",
       "      <td>-127.588682</td>\n",
       "      <td>-2522.962140</td>\n",
       "      <td>-2112.148107</td>\n",
       "      <td>-122.862152</td>\n",
       "      <td>648.803028</td>\n",
       "      <td>-122.725457</td>\n",
       "      <td>-552.138988</td>\n",
       "      <td>668.221949</td>\n",
       "      <td>-967.232274</td>\n",
       "    </tr>\n",
       "    <tr>\n",
       "      <th>25%</th>\n",
       "      <td>12499.750000</td>\n",
       "      <td>-193.259466</td>\n",
       "      <td>230.766727</td>\n",
       "      <td>-19.168799</td>\n",
       "      <td>-0.145591</td>\n",
       "      <td>-19.365933</td>\n",
       "      <td>13.194655</td>\n",
       "      <td>44.033199</td>\n",
       "      <td>-19.735327</td>\n",
       "      <td>-341.661814</td>\n",
       "      <td>...</td>\n",
       "      <td>-19.506051</td>\n",
       "      <td>-19.201002</td>\n",
       "      <td>-386.661131</td>\n",
       "      <td>-2005.333057</td>\n",
       "      <td>-19.449297</td>\n",
       "      <td>745.523084</td>\n",
       "      <td>-19.104441</td>\n",
       "      <td>-33.195948</td>\n",
       "      <td>769.894348</td>\n",
       "      <td>-166.951079</td>\n",
       "    </tr>\n",
       "    <tr>\n",
       "      <th>50%</th>\n",
       "      <td>24999.500000</td>\n",
       "      <td>0.059497</td>\n",
       "      <td>250.176527</td>\n",
       "      <td>0.025505</td>\n",
       "      <td>-0.000804</td>\n",
       "      <td>-0.024488</td>\n",
       "      <td>22.840589</td>\n",
       "      <td>63.255555</td>\n",
       "      <td>-0.411770</td>\n",
       "      <td>-150.646574</td>\n",
       "      <td>...</td>\n",
       "      <td>-0.347854</td>\n",
       "      <td>0.080235</td>\n",
       "      <td>0.512543</td>\n",
       "      <td>-1985.974373</td>\n",
       "      <td>0.020038</td>\n",
       "      <td>765.043604</td>\n",
       "      <td>0.129850</td>\n",
       "      <td>63.317078</td>\n",
       "      <td>789.112656</td>\n",
       "      <td>-0.021428</td>\n",
       "    </tr>\n",
       "    <tr>\n",
       "      <th>75%</th>\n",
       "      <td>37499.250000</td>\n",
       "      <td>193.460359</td>\n",
       "      <td>269.501548</td>\n",
       "      <td>19.359475</td>\n",
       "      <td>0.145529</td>\n",
       "      <td>19.089040</td>\n",
       "      <td>32.641552</td>\n",
       "      <td>82.365940</td>\n",
       "      <td>19.008288</td>\n",
       "      <td>44.603651</td>\n",
       "      <td>...</td>\n",
       "      <td>18.973515</td>\n",
       "      <td>19.385837</td>\n",
       "      <td>383.129776</td>\n",
       "      <td>-1966.843511</td>\n",
       "      <td>19.464868</td>\n",
       "      <td>784.169033</td>\n",
       "      <td>19.366536</td>\n",
       "      <td>159.625909</td>\n",
       "      <td>808.184537</td>\n",
       "      <td>167.628421</td>\n",
       "    </tr>\n",
       "    <tr>\n",
       "      <th>max</th>\n",
       "      <td>49999.000000</td>\n",
       "      <td>1186.644980</td>\n",
       "      <td>374.722263</td>\n",
       "      <td>111.582927</td>\n",
       "      <td>0.841337</td>\n",
       "      <td>127.973836</td>\n",
       "      <td>84.284183</td>\n",
       "      <td>177.470797</td>\n",
       "      <td>112.107814</td>\n",
       "      <td>958.061965</td>\n",
       "      <td>...</td>\n",
       "      <td>114.168708</td>\n",
       "      <td>131.896684</td>\n",
       "      <td>2279.968853</td>\n",
       "      <td>-1872.001557</td>\n",
       "      <td>131.750204</td>\n",
       "      <td>875.580472</td>\n",
       "      <td>118.396997</td>\n",
       "      <td>626.430349</td>\n",
       "      <td>903.761618</td>\n",
       "      <td>1069.795054</td>\n",
       "    </tr>\n",
       "  </tbody>\n",
       "</table>\n",
       "<p>8 rows × 22 columns</p>\n",
       "</div>"
      ],
      "text/plain": [
       "         Unnamed: 0             A             B             C             D  \\\n",
       "count  50000.000000  50000.000000  50000.000000  50000.000000  50000.000000   \n",
       "mean   24999.500000      0.234036    250.032231     -0.043196      0.000344   \n",
       "std    14433.901067    285.713891     28.598415     28.596652      0.215329   \n",
       "min        0.000000  -1275.133865    139.253653   -114.415607     -0.892349   \n",
       "25%    12499.750000   -193.259466    230.766727    -19.168799     -0.145591   \n",
       "50%    24999.500000      0.059497    250.176527      0.025505     -0.000804   \n",
       "75%    37499.250000    193.460359    269.501548     19.359475      0.145529   \n",
       "max    49999.000000   1186.644980    374.722263    111.582927      0.841337   \n",
       "\n",
       "                  E             F             G             H             I  \\\n",
       "count  50000.000000  50000.000000  50000.000000  50000.000000  50000.000000   \n",
       "mean      -0.138673     22.942050     63.183671     -0.265300   -149.202551   \n",
       "std       28.612768     14.382952     28.504422     28.661015    286.684254   \n",
       "min     -132.697679    -36.177565    -46.802955   -137.983886  -1265.689515   \n",
       "25%      -19.365933     13.194655     44.033199    -19.735327   -341.661814   \n",
       "50%       -0.024488     22.840589     63.255555     -0.411770   -150.646574   \n",
       "75%       19.089040     32.641552     82.365940     19.008288     44.603651   \n",
       "max      127.973836     84.284183    177.470797    112.107814    958.061965   \n",
       "\n",
       "       ...             L             M             N             O  \\\n",
       "count  ...  50000.000000  50000.000000  50000.000000  50000.000000   \n",
       "mean   ...     -0.307216      0.036604     -2.009511  -1986.100476   \n",
       "std    ...     28.621340     28.642504    570.633593     28.531680   \n",
       "min    ...   -114.116214   -127.588682  -2522.962140  -2112.148107   \n",
       "25%    ...    -19.506051    -19.201002   -386.661131  -2005.333057   \n",
       "50%    ...     -0.347854      0.080235      0.512543  -1985.974373   \n",
       "75%    ...     18.973515     19.385837    383.129776  -1966.843511   \n",
       "max    ...    114.168708    131.896684   2279.968853  -1872.001557   \n",
       "\n",
       "                  P             Q             R             S             T  \\\n",
       "count  50000.000000  50000.000000  50000.000000  50000.000000  50000.000000   \n",
       "mean       0.024010    764.892736      0.099609     63.015279    789.092996   \n",
       "std       28.693994     28.686856     28.568842    142.545457     28.474483   \n",
       "min     -122.862152    648.803028   -122.725457   -552.138988    668.221949   \n",
       "25%      -19.449297    745.523084    -19.104441    -33.195948    769.894348   \n",
       "50%        0.020038    765.043604      0.129850     63.317078    789.112656   \n",
       "75%       19.464868    784.169033     19.366536    159.625909    808.184537   \n",
       "max      131.750204    875.580472    118.396997    626.430349    903.761618   \n",
       "\n",
       "              label  \n",
       "count  50000.000000  \n",
       "mean      -0.365651  \n",
       "std      246.405245  \n",
       "min     -967.232274  \n",
       "25%     -166.951079  \n",
       "50%       -0.021428  \n",
       "75%      167.628421  \n",
       "max     1069.795054  \n",
       "\n",
       "[8 rows x 22 columns]"
      ]
     },
     "execution_count": 2,
     "metadata": {},
     "output_type": "execute_result"
    }
   ],
   "source": [
    "df.describe()"
   ]
  },
  {
   "cell_type": "code",
   "execution_count": 3,
   "id": "a1890840",
   "metadata": {},
   "outputs": [],
   "source": [
    "#Calctulating the value of cost \n",
    "def cost_function(x,y,w,b):\n",
    "    shape=x.shape\n",
    "    m=shape[0]        #no.of rows(training examples)\n",
    "    y_predicted=(np.matmul(w,x.T)).T+b\n",
    "    cost=np.sum((y_predicted-y)**2)/(2*m)\n",
    "    return cost\n"
   ]
  },
  {
   "cell_type": "code",
   "execution_count": 4,
   "id": "900f71c0",
   "metadata": {},
   "outputs": [],
   "source": [
    "#calculating the value of gradient\n",
    "def gradient_function(x,y,w,b):\n",
    "    shape=x.shape\n",
    "    m=shape[0]    #no.of rows(training examples)\n",
    "    if len(shape)==1:\n",
    "        n=1   #no.of columns\n",
    "    else:\n",
    "        n=shape[1]   #no.of columns\n",
    "    dJ_b=np.zeros(1)\n",
    "    dJ_w=np.zeros(n)\n",
    "    y_predicted=(np.matmul(w,x.T)).T+b\n",
    "    dJ_w=np.matmul((y_predicted-y),x)\n",
    "    dJ_b=np.sum(y_predicted-y)\n",
    "\n",
    "    dJ_w/=m\n",
    "    dJ_b/=m\n",
    "    return dJ_w,dJ_b\n",
    "            "
   ]
  },
  {
   "cell_type": "code",
   "execution_count": 5,
   "id": "1b6d9492",
   "metadata": {},
   "outputs": [],
   "source": [
    "def feature_scaling(x):\n",
    "    mean=np.mean(x,axis=0)\n",
    "    std=np.std(x,axis=0)\n",
    "    x=(x-mean)/std\n",
    "    return x,mean,std\n",
    "X,mean,std=feature_scaling(X)"
   ]
  },
  {
   "cell_type": "code",
   "execution_count": 6,
   "id": "18c394cf",
   "metadata": {},
   "outputs": [],
   "source": [
    "#applying gradient decent \n",
    "def gradient_decent(x,y,w,b,alpha,iterations):\n",
    "    w_new=w\n",
    "    b_new=b\n",
    "    \n",
    "    for i in range(iterations):\n",
    "        dJ_w,dJ_b=gradient_function(x,y,w_new,b_new)\n",
    "        w_new-=(alpha)*(dJ_w)\n",
    "        b_new-=(alpha)*(dJ_b)\n",
    "    return w_new,b_new\n"
   ]
  },
  {
   "cell_type": "code",
   "execution_count": 7,
   "id": "c7b14b9c",
   "metadata": {},
   "outputs": [],
   "source": [
    "#change in cost with iterations \n",
    "def plottingcost(x,y,w,b,alpha,iterations):\n",
    "    wnew=w\n",
    "    bnew=b\n",
    "    itera_t=iterations\n",
    "    n=math.floor(iterations/10)\n",
    "    cost=np.zeros(n)\n",
    "    m=np.arange(n)\n",
    "    for i in range(n):\n",
    "        cost[i]=cost_function(x,y,wnew,bnew)\n",
    "        wnew,bnew=gradient_decent(x,y,wnew,bnew,.01,10)\n",
    "    #print(w,b)\n",
    "    print(cost[n-1])\n",
    "    plt.plot(m,cost)\n",
    "    return wnew,bnew"
   ]
  },
  {
   "cell_type": "code",
   "execution_count": 13,
   "id": "c49bf91a",
   "metadata": {},
   "outputs": [],
   "source": [
    "#R2score\n",
    "def R2score(y_pred,y_act):\n",
    "    y_act_mean=np.mean(y_act)\n",
    "    a=np.sum((y_pred-y_act)**2)\n",
    "    b=np.sum((y_act-y_act_mean)**2)\n",
    "    R2score_accuracy=1-(a/b)\n",
    "    return R2score_accuracy"
   ]
  },
  {
   "cell_type": "code",
   "execution_count": 8,
   "id": "8b058fdf",
   "metadata": {},
   "outputs": [],
   "source": [
    "w=np.zeros(20)\n",
    "b=0"
   ]
  },
  {
   "cell_type": "code",
   "execution_count": 9,
   "id": "e7b323bf",
   "metadata": {},
   "outputs": [
    {
     "name": "stdout",
     "output_type": "stream",
     "text": [
      "4774.91326376743\n"
     ]
    },
    {
     "data": {
      "image/png": "[encoded data removed]",
      "text/plain": [
       "<Figure size 640x480 with 1 Axes>"
      ]
     },
     "metadata": {},
     "output_type": "display_data"
    }
   ],
   "source": [
    "wnew,bnew=plottingcost(X,Y,w,b,.01,600)"
   ]
  },
  {
   "cell_type": "code",
   "execution_count": 10,
   "id": "ac99535f",
   "metadata": {},
   "outputs": [],
   "source": [
    "X_test=array[40000:,1:21]\n",
    "X_test=(X_test-mean)/std\n",
    "\n",
    "Y_test=array[40000:,21]\n"
   ]
  },
  {
   "cell_type": "code",
   "execution_count": 11,
   "id": "8b3c35cf",
   "metadata": {},
   "outputs": [],
   "source": [
    "y_predicted=(np.matmul(wnew,X_test.T)).T+bnew"
   ]
  },
  {
   "cell_type": "code",
   "execution_count": 14,
   "id": "70c422d5",
   "metadata": {},
   "outputs": [
    {
     "data": {
      "text/plain": [
       "0.8417733612399187"
      ]
     },
     "execution_count": 14,
     "metadata": {},
     "output_type": "execute_result"
    }
   ],
   "source": [
    "R2score(y_predicted,Y_test)\n",
    "#learning rate=0.01\n",
    "#no of iterations=600"
   ]
  },
  {
   "cell_type": "code",
   "execution_count": 15,
   "id": "32503c37",
   "metadata": {},
   "outputs": [
    {
     "data": {
      "text/plain": [
       "4754.205512828334"
      ]
     },
     "execution_count": 15,
     "metadata": {},
     "output_type": "execute_result"
    }
   ],
   "source": [
    "cost_function(X_test,Y_test,wnew,bnew)"
   ]
  },
  {
   "cell_type": "code",
   "execution_count": 16,
   "id": "b471cbd1",
   "metadata": {},
   "outputs": [
    {
     "name": "stdout",
     "output_type": "stream",
     "text": [
      "4774.749203158676\n"
     ]
    },
    {
     "data": {
      "image/png": "[encoded data removed]",
      "text/plain": [
       "<Figure size 640x480 with 1 Axes>"
      ]
     },
     "metadata": {},
     "output_type": "display_data"
    }
   ],
   "source": [
    "wnew1,bnew1=plottingcost(X,Y,w,b,.001,600)"
   ]
  },
  {
   "cell_type": "code",
   "execution_count": 17,
   "id": "9efc1a3c",
   "metadata": {},
   "outputs": [],
   "source": [
    "y_predicted1=(np.matmul(wnew1,X_test.T)).T+bnew1"
   ]
  },
  {
   "cell_type": "code",
   "execution_count": 18,
   "id": "fadcde9f",
   "metadata": {},
   "outputs": [
    {
     "data": {
      "text/plain": [
       "0.8417829152264639"
      ]
     },
     "execution_count": 18,
     "metadata": {},
     "output_type": "execute_result"
    }
   ],
   "source": [
    "R2score(y_predicted1,Y_test)"
   ]
  },
  {
   "cell_type": "code",
   "execution_count": 19,
   "id": "e85d1f8d",
   "metadata": {},
   "outputs": [
    {
     "name": "stdout",
     "output_type": "stream",
     "text": [
      "4774.749202123721\n"
     ]
    },
    {
     "data": {
      "text/plain": [
       "0.8417829205312526"
      ]
     },
     "execution_count": 19,
     "metadata": {},
     "output_type": "execute_result"
    },
    {
     "data": {
      "image/png": "[encoded data removed]",
      "text/plain": [
       "<Figure size 640x480 with 1 Axes>"
      ]
     },
     "metadata": {},
     "output_type": "display_data"
    }
   ],
   "source": [
    "#learning rate=0.001\n",
    "#no of iterations=600\n",
    "wnew2,bnew2=plottingcost(X,Y,w,b,.001,600)\n",
    "y_predicted2=(np.matmul(wnew2,X_test.T)).T+bnew2\n",
    "R2score(y_predicted2,Y_test)"
   ]
  },
  {
   "cell_type": "code",
   "execution_count": 20,
   "id": "7322b223",
   "metadata": {},
   "outputs": [
    {
     "name": "stdout",
     "output_type": "stream",
     "text": [
      "4774.749201291785\n"
     ]
    },
    {
     "data": {
      "text/plain": [
       "0.8417828704601524"
      ]
     },
     "execution_count": 20,
     "metadata": {},
     "output_type": "execute_result"
    },
    {
     "data": {
      "image/png": "[encoded data removed]",
      "text/plain": [
       "<Figure size 640x480 with 1 Axes>"
      ]
     },
     "metadata": {},
     "output_type": "display_data"
    }
   ],
   "source": [
    "#learning rate=0.001\n",
    "#no of iterations=1000\n",
    "wnew3,bnew3=plottingcost(X,Y,w,b,.001,1000)\n",
    "y_predicted3=(np.matmul(wnew3,X_test.T)).T+bnew3\n",
    "R2score(y_predicted3,Y_test)"
   ]
  },
  {
   "cell_type": "code",
   "execution_count": 21,
   "id": "232fed66",
   "metadata": {},
   "outputs": [
    {
     "name": "stdout",
     "output_type": "stream",
     "text": [
      "4774.749201291516\n"
     ]
    },
    {
     "data": {
      "text/plain": [
       "0.8417828695505746"
      ]
     },
     "execution_count": 21,
     "metadata": {},
     "output_type": "execute_result"
    },
    {
     "data": {
      "image/png": "[encoded data removed]",
      "text/plain": [
       "<Figure size 640x480 with 1 Axes>"
      ]
     },
     "metadata": {},
     "output_type": "display_data"
    }
   ],
   "source": [
    "wnew4,bnew4=plottingcost(X,Y,w,b,.001,1500)\n",
    "y_predicted4=(np.matmul(wnew4,X_test.T)).T+bnew4\n",
    "R2score(y_predicted4,Y_test)"
   ]
  },
  {
   "cell_type": "code",
   "execution_count": 22,
   "id": "e9a7a285",
   "metadata": {},
   "outputs": [
    {
     "name": "stdout",
     "output_type": "stream",
     "text": [
      "4774.749202123713\n"
     ]
    },
    {
     "data": {
      "text/plain": [
       "0.8417829205286917"
      ]
     },
     "execution_count": 22,
     "metadata": {},
     "output_type": "execute_result"
    },
    {
     "data": {
      "image/png": "[encoded data removed]",
      "text/plain": [
       "<Figure size 640x480 with 1 Axes>"
      ]
     },
     "metadata": {},
     "output_type": "display_data"
    }
   ],
   "source": [
    "#learning rate=0.001\n",
    "#no of iterations=600\n",
    "wnew5,bnew5=plottingcost(X,Y,w,b,.001,600)\n",
    "y_predicted5=(np.matmul(wnew5,X_test.T)).T+bnew5\n",
    "R2score(y_predicted5,Y_test)"
   ]
  },
  {
   "cell_type": "code",
   "execution_count": null,
   "id": "29ce5067",
   "metadata": {},
   "outputs": [],
   "source": []
  }
 ],
 "metadata": {
  "kernelspec": {
   "display_name": "Python 3 (ipykernel)",
   "language": "python",
   "name": "python3"
  },
  "language_info": {
   "codemirror_mode": {
    "name": "ipython",
    "version": 3
   },
   "file_extension": ".py",
   "mimetype": "text/x-python",
   "name": "python",
   "nbconvert_exporter": "python",
   "pygments_lexer": "ipython3",
   "version": "3.11.2"
  }
 },
 "nbformat": 4,
 "nbformat_minor": 5
}
