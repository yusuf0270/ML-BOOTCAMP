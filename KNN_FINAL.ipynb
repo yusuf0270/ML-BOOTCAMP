{
 "cells": [
  {
   "cell_type": "code",
   "execution_count": 1,
   "id": "9ce551a6",
   "metadata": {},
   "outputs": [
    {
     "name": "stdout",
     "output_type": "stream",
     "text": [
      "(25000, 784)\n",
      "(5000, 784)\n",
      "(5000,)\n",
      "1.0\n"
     ]
    }
   ],
   "source": [
    "import numpy as np\n",
    "import pandas as pd\n",
    "import math\n",
    "import matplotlib.pyplot as plt\n",
    "import pandas as pd"
   ]
  },
  {
   "cell_type": "code",
   "execution_count": null,
   "id": "487b4103",
   "metadata": {},
   "outputs": [],
   "source": [
    "#reading test data\n",
    "df=pd.read_csv('classification_train.csv')\n",
    "array=df.to_numpy()\n",
    "x=array[0:25000,2:]\n",
    "x_test=array[25000:,2:]\n",
    "y=array[:25000,1]\n",
    "y_test=array[25000:,1]"
   ]
  },
  {
   "cell_type": "code",
   "execution_count": 2,
   "id": "3274cd4c",
   "metadata": {},
   "outputs": [],
   "source": [
    "#no training is reguired\n",
    "def distance_function(x1,x2):\n",
    "    #print(x1.shape)\n",
    "    #print(x2.shape)\n",
    "    distance=np.sum(np.square(x2-x1))\n",
    "    return distance"
   ]
  },
  {
   "cell_type": "code",
   "execution_count": 44,
   "id": "5c54a7e4",
   "metadata": {},
   "outputs": [],
   "source": [
    "def KNN(x,y,test_example,k):\n",
    "    shape=x.shape\n",
    "    m=shape[0]    #no.of rows(training examples)\n",
    "    if len(shape)==1:\n",
    "        n=1   #no.of columns\n",
    "    else:\n",
    "        n=shape[1]   #no.of columns\n",
    "    \n",
    "    distance=np.zeros(m)\n",
    "    \n",
    "    test=np.tile(test_example,(m,1))\n",
    "    \n",
    "    distance=(np.sum((x-test)**2,axis=1))\n",
    "    \n",
    "    index=np.argsort(distance)\n",
    "    \n",
    "    req_index=index[0:k]\n",
    "    \n",
    "    nearest_k=np.zeros(k)\n",
    "    \n",
    "    for j in range (k):\n",
    "        nearest_k[j]=y[req_index[j]]\n",
    "    vals,counts = np.unique(nearest_k,return_counts=True)\n",
    "    mode=np.argmax(counts)\n",
    "    prediction = vals[mode]\n",
    "    return prediction"
   ]
  },
  {
   "cell_type": "code",
   "execution_count": 53,
   "id": "e605e2f6",
   "metadata": {
    "scrolled": true
   },
   "outputs": [],
   "source": [
    "y_predicted=np.zeros(5000)\n",
    "for i in range(5000):\n",
    "    y_predicted[i]=KNN(x,y,x_test[i],170)\n",
    "    \n"
   ]
  },
  {
   "cell_type": "code",
   "execution_count": 55,
   "id": "ae8aadbb",
   "metadata": {},
   "outputs": [
    {
     "name": "stdout",
     "output_type": "stream",
     "text": [
      "[8. 9. 2. ... 9. 6. 0.]\n"
     ]
    }
   ],
   "source": [
    "print(y_predicted)"
   ]
  },
  {
   "cell_type": "code",
   "execution_count": 56,
   "id": "a25953bf",
   "metadata": {},
   "outputs": [],
   "source": [
    "def Hits(y_predicted,y):\n",
    "    shape=y.shape\n",
    "    m=shape[0]\n",
    "    print(m)\n",
    "    count=0\n",
    "    for i in range (m):\n",
    "        if y_predicted[i]==y[i]:\n",
    "            count+=1\n",
    "    accuracy=(count/m)*100\n",
    "    return accuracy,count"
   ]
  },
  {
   "cell_type": "code",
   "execution_count": 57,
   "id": "b2d7dc67",
   "metadata": {},
   "outputs": [
    {
     "name": "stdout",
     "output_type": "stream",
     "text": [
      "5000\n"
     ]
    },
    {
     "data": {
      "text/plain": [
       "(79.46, 3973)"
      ]
     },
     "execution_count": 57,
     "metadata": {},
     "output_type": "execute_result"
    }
   ],
   "source": [
    "Hits(y_predicted,y_test)"
   ]
  },
  {
   "cell_type": "code",
   "execution_count": null,
   "id": "67124d60",
   "metadata": {},
   "outputs": [],
   "source": []
  }
 ],
 "metadata": {
  "kernelspec": {
   "display_name": "Python 3 (ipykernel)",
   "language": "python",
   "name": "python3"
  },
  "language_info": {
   "codemirror_mode": {
    "name": "ipython",
    "version": 3
   },
   "file_extension": ".py",
   "mimetype": "text/x-python",
   "name": "python",
   "nbconvert_exporter": "python",
   "pygments_lexer": "ipython3",
   "version": "3.11.2"
  }
 },
 "nbformat": 4,
 "nbformat_minor": 5
}
